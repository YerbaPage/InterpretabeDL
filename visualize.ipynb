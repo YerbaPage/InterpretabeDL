{
 "cells": [
  {
   "cell_type": "code",
   "execution_count": 25,
   "id": "tired-association",
   "metadata": {},
   "outputs": [],
   "source": [
    "import torch\n",
    "from transformers import *\n",
    "import pandas as pd\n",
    "tokenizer = BertTokenizer.from_pretrained('bert-base-uncased')"
   ]
  },
  {
   "cell_type": "code",
   "execution_count": 6,
   "id": "institutional-lesbian",
   "metadata": {},
   "outputs": [],
   "source": [
    "batch = str(0)\n",
    "sent = str(0)\n",
    "batch_0_x_sent_0 = torch.load('tensor/batch_{}_x_sent_{}.pt'.format(batch, sent)).squeeze(0)\n",
    "batch_0_hess_0 = torch.load('tensor/batch_{}_hess_{}.pt'.format(batch, sent)).squeeze(0)\n",
    "# print(batch_0_x_sent_0)"
   ]
  },
  {
   "cell_type": "code",
   "execution_count": 3,
   "id": "foster-citation",
   "metadata": {},
   "outputs": [
    {
     "output_type": "stream",
     "name": "stdout",
     "text": [
      "tensor([  101,  2048,  2308,  2024, 23581,  2096,  3173,  2000,  2175, 14555,\n         1012,   102,  1996,  5208,  2024, 17662,  9119,  2096,  3173,  2000,\n         2175, 14555,  2044,  2074,  5983,  6265,  1012,   102,     0,     0,\n            0,     0,     0,     0,     0,     0,     0,     0,     0,     0],\n       device='cuda:0')\n"
     ]
    }
   ],
   "source": []
  },
  {
   "cell_type": "code",
   "execution_count": 45,
   "id": "agricultural-collectible",
   "metadata": {},
   "outputs": [],
   "source": [
    "ori_sentence = tokenizer.convert_ids_to_tokens(batch_0_x_sent_0)\n",
    "# print(tokenizer.convert_ids_to_tokens(batch_0_x_sent_0))\n",
    "temp = dict([i, ori_sentence[i]] for i in range(len(ori_sentence)))"
   ]
  },
  {
   "cell_type": "code",
   "execution_count": 7,
   "id": "rough-panama",
   "metadata": {},
   "outputs": [
    {
     "output_type": "stream",
     "name": "stdout",
     "text": [
      "tensor([[0.0642, 0.0008, 0.0380,  ..., 0.0000, 0.0000, 0.0000],\n        [0.0008, 0.0507, 0.0255,  ..., 0.0000, 0.0000, 0.0000],\n        [0.0380, 0.0255, 0.0331,  ..., 0.0000, 0.0000, 0.0000],\n        ...,\n        [0.0000, 0.0000, 0.0000,  ..., 0.0000, 0.0000, 0.0000],\n        [0.0000, 0.0000, 0.0000,  ..., 0.0000, 0.0000, 0.0000],\n        [0.0000, 0.0000, 0.0000,  ..., 0.0000, 0.0000, 0.0000]],\n       device='cuda:0')\n"
     ]
    }
   ],
   "source": [
    "print(torch.abs(batch_0_hess_0))\n",
    "abs_hess = torch.abs(batch_0_hess_0)\n",
    "# no_diag_hess = abs_hess - abs_hess.max() * torch.eye(abs_hess.shape[0], device='cuda:0')"
   ]
  },
  {
   "cell_type": "code",
   "execution_count": 11,
   "metadata": {},
   "outputs": [],
   "source": [
    "# abs_hess.split(128)\n",
    "# conv = torch.nn.Conv2d(1, 1, (128, 128), padding=0, stride=128).to('cuda:0')(abs_hess.unsqueeze(0).unsqueeze(0))\n",
    "avg_hess = torch.nn.AvgPool2d(128, stride=128).to('cuda:0')(abs_hess.unsqueeze(0))[0] - torch.eye(40, device='cuda:0') * 10\n",
    "max_hess = torch.nn.MaxPool2d(128, stride=128).to('cuda:0')(abs_hess.unsqueeze(0))[0] - torch.eye(40, device='cuda:0') * 10"
   ]
  },
  {
   "cell_type": "code",
   "execution_count": 59,
   "id": "portable-singing",
   "metadata": {},
   "outputs": [],
   "source": [
    "values, indices = max_hess.max(1)\n",
    "pairs = [[i, int(indices[i]), float(values[i])] for i in range(indices.shape[0]) if float(values[i]) != 0]"
   ]
  },
  {
   "cell_type": "code",
   "execution_count": 66,
   "metadata": {},
   "outputs": [
    {
     "output_type": "execute_result",
     "data": {
      "text/plain": [
       "         word most relavent     score\n",
       "27      [SEP]         [SEP]  0.561189\n",
       "11      [SEP]         [SEP]  0.561189\n",
       "0       [CLS]         [SEP]  0.497816\n",
       "21   packages      packages  0.199171\n",
       "9    packages      packages  0.199171\n",
       "2       women         [SEP]  0.170174\n",
       "13    sisters         [SEP]  0.159542\n",
       "10          .         [SEP]  0.124365\n",
       "4   embracing         [SEP]  0.124075\n",
       "26          .         [SEP]  0.115160"
      ],
      "text/html": "<div>\n<style scoped>\n    .dataframe tbody tr th:only-of-type {\n        vertical-align: middle;\n    }\n\n    .dataframe tbody tr th {\n        vertical-align: top;\n    }\n\n    .dataframe thead th {\n        text-align: right;\n    }\n</style>\n<table border=\"1\" class=\"dataframe\">\n  <thead>\n    <tr style=\"text-align: right;\">\n      <th></th>\n      <th>word</th>\n      <th>most relavent</th>\n      <th>score</th>\n    </tr>\n  </thead>\n  <tbody>\n    <tr>\n      <th>27</th>\n      <td>[SEP]</td>\n      <td>[SEP]</td>\n      <td>0.561189</td>\n    </tr>\n    <tr>\n      <th>11</th>\n      <td>[SEP]</td>\n      <td>[SEP]</td>\n      <td>0.561189</td>\n    </tr>\n    <tr>\n      <th>0</th>\n      <td>[CLS]</td>\n      <td>[SEP]</td>\n      <td>0.497816</td>\n    </tr>\n    <tr>\n      <th>21</th>\n      <td>packages</td>\n      <td>packages</td>\n      <td>0.199171</td>\n    </tr>\n    <tr>\n      <th>9</th>\n      <td>packages</td>\n      <td>packages</td>\n      <td>0.199171</td>\n    </tr>\n    <tr>\n      <th>2</th>\n      <td>women</td>\n      <td>[SEP]</td>\n      <td>0.170174</td>\n    </tr>\n    <tr>\n      <th>13</th>\n      <td>sisters</td>\n      <td>[SEP]</td>\n      <td>0.159542</td>\n    </tr>\n    <tr>\n      <th>10</th>\n      <td>.</td>\n      <td>[SEP]</td>\n      <td>0.124365</td>\n    </tr>\n    <tr>\n      <th>4</th>\n      <td>embracing</td>\n      <td>[SEP]</td>\n      <td>0.124075</td>\n    </tr>\n    <tr>\n      <th>26</th>\n      <td>.</td>\n      <td>[SEP]</td>\n      <td>0.115160</td>\n    </tr>\n  </tbody>\n</table>\n</div>"
     },
     "metadata": {},
     "execution_count": 66
    }
   ],
   "source": [
    "df = pd.DataFrame(pairs)\n",
    "df.columns = ['word', 'most relavent', 'score']\n",
    "df = df.replace(temp)\n",
    "df.sort_values('score', ascending=False, inplace=True)\n",
    "df.head(10)"
   ]
  },
  {
   "cell_type": "code",
   "execution_count": 18,
   "metadata": {},
   "outputs": [],
   "source": [
    "values, indices = no_diag_hess.max(1)"
   ]
  },
  {
   "cell_type": "code",
   "execution_count": null,
   "metadata": {},
   "outputs": [],
   "source": []
  },
  {
   "cell_type": "code",
   "execution_count": 13,
   "id": "purple-wallet",
   "metadata": {},
   "outputs": [
    {
     "output_type": "execute_result",
     "data": {
      "text/plain": [
       "torch.return_types.topk(\n",
       "values=tensor([[0.1602, 0.1550, 0.1335, 0.1164, 0.1150],\n",
       "        [0.1623, 0.0946, 0.0881, 0.0861, 0.0788],\n",
       "        [0.4964, 0.4913, 0.4907, 0.4043, 0.3721],\n",
       "        ...,\n",
       "        [0.0000, 0.0000, 0.0000, 0.0000, 0.0000],\n",
       "        [0.0000, 0.0000, 0.0000, 0.0000, 0.0000],\n",
       "        [0.0000, 0.0000, 0.0000, 0.0000, 0.0000]], device='cuda:0'),\n",
       "indices=tensor([[3459, 3535, 3580, 3529, 1411],\n",
       "        [   3,  112,    5, 3535,  118],\n",
       "        [   3, 3459, 3535, 1411, 3529],\n",
       "        ...,\n",
       "        [   1,    0,    2,    4,    3],\n",
       "        [   1,    0,    2,    4,    3],\n",
       "        [   1,    0,    2,    4,    3]], device='cuda:0'))"
      ]
     },
     "metadata": {},
     "execution_count": 13
    }
   ],
   "source": [
    "# torch.topk(no_diag_hess, 5)"
   ]
  },
  {
   "cell_type": "code",
   "execution_count": null,
   "id": "departmental-tackle",
   "metadata": {},
   "outputs": [],
   "source": []
  }
 ],
 "metadata": {
  "kernelspec": {
   "display_name": "Python 3",
   "language": "python",
   "name": "python3"
  },
  "language_info": {
   "codemirror_mode": {
    "name": "ipython",
    "version": 3
   },
   "file_extension": ".py",
   "mimetype": "text/x-python",
   "name": "python",
   "nbconvert_exporter": "python",
   "pygments_lexer": "ipython3",
   "version": "3.8.5-final"
  }
 },
 "nbformat": 4,
 "nbformat_minor": 5
}