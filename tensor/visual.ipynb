{
 "cells": [
  {
   "cell_type": "code",
   "execution_count": 1,
   "id": "tired-association",
   "metadata": {},
   "outputs": [],
   "source": [
    "import torch\n",
    "from transformers import BertTokenizer\n",
    "from transformers import *"
   ]
  },
  {
   "cell_type": "code",
   "execution_count": 41,
   "id": "institutional-lesbian",
   "metadata": {},
   "outputs": [
    {
     "output_type": "stream",
     "name": "stdout",
     "text": [
      "batch_0_cause_mask_0.pt    batch_126_x_sent_2.pt      batch_252_x_sent_0.pt\nbatch_0_cause_mask_1.pt    batch_126_x_sent_3.pt      batch_252_x_sent_1.pt\nbatch_0_cause_mask_2.pt    batch_189_cause_mask_0.pt  batch_252_x_sent_2.pt\nbatch_0_cause_mask_3.pt    batch_189_cause_mask_1.pt  batch_252_x_sent_3.pt\nbatch_0_hess_0.pt\t   batch_189_cause_mask_2.pt  batch_312_cause_mask_0.pt\nbatch_0_hess_1.pt\t   batch_189_cause_mask_3.pt  batch_312_hess_0.pt\nbatch_0_hess_2.pt\t   batch_189_hess_0.pt\t      batch_312_x_sent_0.pt\nbatch_0_hess_3.pt\t   batch_189_hess_1.pt\t      batch_63_cause_mask_0.pt\nbatch_0_x_sent_0.pt\t   batch_189_hess_2.pt\t      batch_63_cause_mask_1.pt\nbatch_0_x_sent_1.pt\t   batch_189_hess_3.pt\t      batch_63_cause_mask_2.pt\nbatch_0_x_sent_2.pt\t   batch_189_x_sent_0.pt      batch_63_cause_mask_3.pt\nbatch_0_x_sent_3.pt\t   batch_189_x_sent_1.pt      batch_63_hess_0.pt\nbatch_126_cause_mask_0.pt  batch_189_x_sent_2.pt      batch_63_hess_1.pt\nbatch_126_cause_mask_1.pt  batch_189_x_sent_3.pt      batch_63_hess_2.pt\nbatch_126_cause_mask_2.pt  batch_252_cause_mask_0.pt  batch_63_hess_3.pt\nbatch_126_cause_mask_3.pt  batch_252_cause_mask_1.pt  batch_63_x_sent_0.pt\nbatch_126_hess_0.pt\t   batch_252_cause_mask_2.pt  batch_63_x_sent_1.pt\nbatch_126_hess_1.pt\t   batch_252_cause_mask_3.pt  batch_63_x_sent_2.pt\nbatch_126_hess_2.pt\t   batch_252_hess_0.pt\t      batch_63_x_sent_3.pt\nbatch_126_hess_3.pt\t   batch_252_hess_1.pt\t      visual.ipynb\nbatch_126_x_sent_0.pt\t   batch_252_hess_2.pt\nbatch_126_x_sent_1.pt\t   batch_252_hess_3.pt\n"
     ]
    }
   ],
   "source": [
    "!ls"
   ]
  },
  {
   "cell_type": "code",
   "execution_count": 3,
   "id": "superior-reggae",
   "metadata": {},
   "outputs": [],
   "source": [
    "batch_0_x_sent_0 = torch.load('batch_0_x_sent_0.pt').squeeze(0)"
   ]
  },
  {
   "cell_type": "code",
   "execution_count": 4,
   "id": "foster-citation",
   "metadata": {},
   "outputs": [
    {
     "output_type": "stream",
     "name": "stdout",
     "text": [
      "tensor([  101,  2048,  2308,  2024, 23581,  2096,  3173,  2000,  2175, 14555,\n         1012,   102,  1996,  5208,  2024, 17662,  9119,  2096,  3173,  2000,\n         2175, 14555,  2044,  2074,  5983,  6265,  1012,   102,     0,     0,\n            0,     0,     0,     0,     0,     0,     0,     0,     0,     0],\n       device='cuda:0')\n"
     ]
    }
   ],
   "source": [
    "print(batch_0_x_sent_0)"
   ]
  },
  {
   "cell_type": "code",
   "execution_count": 5,
   "id": "impressed-bradley",
   "metadata": {},
   "outputs": [],
   "source": [
    "tokenizer = BertTokenizer.from_pretrained('bert-base-uncased')"
   ]
  },
  {
   "cell_type": "code",
   "execution_count": 6,
   "id": "agricultural-collectible",
   "metadata": {},
   "outputs": [
    {
     "output_type": "stream",
     "name": "stdout",
     "text": [
      "['[CLS]', 'two', 'women', 'are', 'embracing', 'while', 'holding', 'to', 'go', 'packages', '.', '[SEP]', 'the', 'sisters', 'are', 'hugging', 'goodbye', 'while', 'holding', 'to', 'go', 'packages', 'after', 'just', 'eating', 'lunch', '.', '[SEP]', '[PAD]', '[PAD]', '[PAD]', '[PAD]', '[PAD]', '[PAD]', '[PAD]', '[PAD]', '[PAD]', '[PAD]', '[PAD]', '[PAD]']\n"
     ]
    }
   ],
   "source": [
    "print(tokenizer.convert_ids_to_tokens(batch_0_x_sent_0))\n",
    "ori_sentence = tokenizer.convert_ids_to_tokens(batch_0_x_sent_0)"
   ]
  },
  {
   "cell_type": "code",
   "execution_count": 8,
   "id": "prerequisite-variety",
   "metadata": {},
   "outputs": [],
   "source": [
    "batch_0_hess_0 = torch.load('batch_0_hess_0.pt').squeeze(0)"
   ]
  },
  {
   "cell_type": "code",
   "execution_count": 9,
   "id": "rough-panama",
   "metadata": {},
   "outputs": [
    {
     "output_type": "stream",
     "name": "stdout",
     "text": [
      "tensor([[0.1106, 0.0314, 0.0179,  ..., 0.0000, 0.0000, 0.0000],\n        [0.0314, 0.0855, 0.0656,  ..., 0.0000, 0.0000, 0.0000],\n        [0.0179, 0.0656, 0.1476,  ..., 0.0000, 0.0000, 0.0000],\n        ...,\n        [0.0000, 0.0000, 0.0000,  ..., 0.0000, 0.0000, 0.0000],\n        [0.0000, 0.0000, 0.0000,  ..., 0.0000, 0.0000, 0.0000],\n        [0.0000, 0.0000, 0.0000,  ..., 0.0000, 0.0000, 0.0000]],\n       device='cuda:0')\n"
     ]
    }
   ],
   "source": [
    "print(torch.abs(batch_0_hess_0))\n",
    "abs_hess = torch.abs(batch_0_hess_0)\n",
    "no_diag_hess = abs_hess - abs_hess.max() * torch.eye(abs_hess.shape[0], device='cuda:0')"
   ]
  },
  {
   "cell_type": "code",
   "execution_count": 10,
   "id": "portable-singing",
   "metadata": {},
   "outputs": [
    {
     "output_type": "execute_result",
     "data": {
      "text/plain": [
       "tensor([[-2.5003,  0.0314,  0.0179,  ...,  0.0000,  0.0000,  0.0000],\n",
       "        [ 0.0314, -2.5255,  0.0656,  ...,  0.0000,  0.0000,  0.0000],\n",
       "        [ 0.0179,  0.0656, -2.4633,  ...,  0.0000,  0.0000,  0.0000],\n",
       "        ...,\n",
       "        [ 0.0000,  0.0000,  0.0000,  ..., -2.6109,  0.0000,  0.0000],\n",
       "        [ 0.0000,  0.0000,  0.0000,  ...,  0.0000, -2.6109,  0.0000],\n",
       "        [ 0.0000,  0.0000,  0.0000,  ...,  0.0000,  0.0000, -2.6109]],\n",
       "       device='cuda:0')"
      ]
     },
     "metadata": {},
     "execution_count": 10
    }
   ],
   "source": [
    "no_diag_hess"
   ]
  },
  {
   "cell_type": "code",
   "execution_count": 20,
   "metadata": {},
   "outputs": [],
   "source": [
    "values, indices = no_diag_hess.max(1)"
   ]
  },
  {
   "cell_type": "code",
   "execution_count": 29,
   "metadata": {},
   "outputs": [
    {
     "output_type": "execute_result",
     "data": {
      "text/plain": [
       "tensor([3535, 3529, 3459, 3580, 3543, 3498, 3547,    3, 1481, 1487],\n",
       "       device='cuda:0')"
      ]
     },
     "metadata": {},
     "execution_count": 29
    }
   ],
   "source": [
    "torch.topk(values, 10)[]"
   ]
  },
  {
   "cell_type": "code",
   "execution_count": 40,
   "metadata": {},
   "outputs": [],
   "source": [
    "pairs = torch.tensor([[i, int(indices[i])] for i in range(indices.shape[0])])\n",
    "# pairs\n",
    "# [tokenizer.convert_ids_to_tokens(i) for i in pairs]"
   ]
  },
  {
   "cell_type": "code",
   "execution_count": null,
   "metadata": {},
   "outputs": [],
   "source": []
  },
  {
   "cell_type": "code",
   "execution_count": 13,
   "id": "purple-wallet",
   "metadata": {},
   "outputs": [
    {
     "output_type": "execute_result",
     "data": {
      "text/plain": [
       "torch.return_types.topk(\n",
       "values=tensor([[0.1602, 0.1550, 0.1335, 0.1164, 0.1150],\n",
       "        [0.1623, 0.0946, 0.0881, 0.0861, 0.0788],\n",
       "        [0.4964, 0.4913, 0.4907, 0.4043, 0.3721],\n",
       "        ...,\n",
       "        [0.0000, 0.0000, 0.0000, 0.0000, 0.0000],\n",
       "        [0.0000, 0.0000, 0.0000, 0.0000, 0.0000],\n",
       "        [0.0000, 0.0000, 0.0000, 0.0000, 0.0000]], device='cuda:0'),\n",
       "indices=tensor([[3459, 3535, 3580, 3529, 1411],\n",
       "        [   3,  112,    5, 3535,  118],\n",
       "        [   3, 3459, 3535, 1411, 3529],\n",
       "        ...,\n",
       "        [   1,    0,    2,    4,    3],\n",
       "        [   1,    0,    2,    4,    3],\n",
       "        [   1,    0,    2,    4,    3]], device='cuda:0'))"
      ]
     },
     "metadata": {},
     "execution_count": 13
    }
   ],
   "source": [
    "# torch.topk(no_diag_hess, 5)"
   ]
  },
  {
   "cell_type": "code",
   "execution_count": null,
   "id": "departmental-tackle",
   "metadata": {},
   "outputs": [],
   "source": []
  }
 ],
 "metadata": {
  "kernelspec": {
   "display_name": "Python 3",
   "language": "python",
   "name": "python3"
  },
  "language_info": {
   "codemirror_mode": {
    "name": "ipython",
    "version": 3
   },
   "file_extension": ".py",
   "mimetype": "text/x-python",
   "name": "python",
   "nbconvert_exporter": "python",
   "pygments_lexer": "ipython3",
   "version": "3.8.5-final"
  }
 },
 "nbformat": 4,
 "nbformat_minor": 5
}