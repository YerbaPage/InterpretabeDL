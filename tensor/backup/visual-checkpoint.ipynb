{
 "cells": [
  {
   "cell_type": "code",
   "execution_count": 1,
   "id": "tired-association",
   "metadata": {},
   "outputs": [],
   "source": [
    "import torch\n",
    "from transformers import BertTokenizer\n",
    "from transformers import *"
   ]
  },
  {
   "cell_type": "code",
   "execution_count": 15,
   "id": "institutional-lesbian",
   "metadata": {},
   "outputs": [
    {
     "name": "stdout",
     "output_type": "stream",
     "text": [
      "batch_0_cause_mask_0.pt  batch_0_hess_2.pt    batch_63_cause_mask_0.pt\r\n",
      "batch_0_cause_mask_1.pt  batch_0_hess_3.pt    batch_63_hess_0.pt\r\n",
      "batch_0_cause_mask_2.pt  batch_0_x_sent_0.pt  batch_63_x_sent_0.pt\r\n",
      "batch_0_cause_mask_3.pt  batch_0_x_sent_1.pt  visual.ipynb\r\n",
      "batch_0_hess_0.pt\t batch_0_x_sent_2.pt\r\n",
      "batch_0_hess_1.pt\t batch_0_x_sent_3.pt\r\n"
     ]
    }
   ],
   "source": [
    "!ls"
   ]
  },
  {
   "cell_type": "code",
   "execution_count": 3,
   "id": "superior-reggae",
   "metadata": {},
   "outputs": [],
   "source": [
    "batch_0_x_sent_0 = torch.load('batch_0_x_sent_0.pt').squeeze(0)"
   ]
  },
  {
   "cell_type": "code",
   "execution_count": 4,
   "id": "foster-citation",
   "metadata": {},
   "outputs": [
    {
     "name": "stdout",
     "output_type": "stream",
     "text": [
      "tensor([  101,  2048,  2308,  2024, 23581,  2096,  3173,  2000,  2175, 14555,\n",
      "         1012,   102,  1996,  5208,  2024, 17662,  9119,  2096,  3173,  2000,\n",
      "         2175, 14555,  2044,  2074,  5983,  6265,  1012,   102,     0,     0,\n",
      "            0,     0,     0,     0,     0,     0,     0,     0,     0,     0],\n",
      "       device='cuda:0')\n"
     ]
    }
   ],
   "source": [
    "print(batch_0_x_sent_0)"
   ]
  },
  {
   "cell_type": "code",
   "execution_count": 5,
   "id": "impressed-bradley",
   "metadata": {},
   "outputs": [],
   "source": [
    "tokenizer = BertTokenizer.from_pretrained('bert-base-uncased')"
   ]
  },
  {
   "cell_type": "code",
   "execution_count": 13,
   "id": "agricultural-collectible",
   "metadata": {},
   "outputs": [
    {
     "name": "stdout",
     "output_type": "stream",
     "text": [
      "['[CLS]', 'two', 'women', 'are', 'embracing', 'while', 'holding', 'to', 'go', 'packages', '.', '[SEP]', 'the', 'sisters', 'are', 'hugging', 'goodbye', 'while', 'holding', 'to', 'go', 'packages', 'after', 'just', 'eating', 'lunch', '.', '[SEP]', '[PAD]', '[PAD]', '[PAD]', '[PAD]', '[PAD]', '[PAD]', '[PAD]', '[PAD]', '[PAD]', '[PAD]', '[PAD]', '[PAD]']\n"
     ]
    }
   ],
   "source": [
    "print(tokenizer.convert_ids_to_tokens(batch_0_x_sent_0))\n",
    "ori_sentence = tokenizer.convert_ids_to_tokens(batch_0_x_sent_0)"
   ]
  },
  {
   "cell_type": "code",
   "execution_count": 8,
   "id": "prerequisite-variety",
   "metadata": {},
   "outputs": [],
   "source": [
    "batch_0_hess_0 = torch.load('batch_0_hess_0.pt').squeeze(0)"
   ]
  },
  {
   "cell_type": "code",
   "execution_count": 21,
   "id": "rough-panama",
   "metadata": {},
   "outputs": [
    {
     "name": "stdout",
     "output_type": "stream",
     "text": [
      "tensor([[0.1106, 0.0314, 0.0179,  ..., 0.0000, 0.0000, 0.0000],\n",
      "        [0.0314, 0.0855, 0.0656,  ..., 0.0000, 0.0000, 0.0000],\n",
      "        [0.0179, 0.0656, 0.1476,  ..., 0.0000, 0.0000, 0.0000],\n",
      "        ...,\n",
      "        [0.0000, 0.0000, 0.0000,  ..., 0.0000, 0.0000, 0.0000],\n",
      "        [0.0000, 0.0000, 0.0000,  ..., 0.0000, 0.0000, 0.0000],\n",
      "        [0.0000, 0.0000, 0.0000,  ..., 0.0000, 0.0000, 0.0000]],\n",
      "       device='cuda:0')\n"
     ]
    }
   ],
   "source": [
    "print(torch.abs(batch_0_hess_0))\n",
    "abs_hess = torch.abs(batch_0_hess_0)\n",
    "no_diag_hess = abs_hess - abs_hess.max() * torch.eye(abs_hess.shape[0], device='cuda:0')"
   ]
  },
  {
   "cell_type": "code",
   "execution_count": 23,
   "id": "portable-singing",
   "metadata": {},
   "outputs": [
    {
     "data": {
      "text/plain": [
       "tensor([[-2.5003,  0.0314,  0.0179,  ...,  0.0000,  0.0000,  0.0000],\n",
       "        [ 0.0314, -2.5255,  0.0656,  ...,  0.0000,  0.0000,  0.0000],\n",
       "        [ 0.0179,  0.0656, -2.4633,  ...,  0.0000,  0.0000,  0.0000],\n",
       "        ...,\n",
       "        [ 0.0000,  0.0000,  0.0000,  ..., -2.6109,  0.0000,  0.0000],\n",
       "        [ 0.0000,  0.0000,  0.0000,  ...,  0.0000, -2.6109,  0.0000],\n",
       "        [ 0.0000,  0.0000,  0.0000,  ...,  0.0000,  0.0000, -2.6109]],\n",
       "       device='cuda:0')"
      ]
     },
     "execution_count": 23,
     "metadata": {},
     "output_type": "execute_result"
    }
   ],
   "source": [
    "no_diag_hess"
   ]
  },
  {
   "cell_type": "code",
   "execution_count": 24,
   "id": "purple-wallet",
   "metadata": {},
   "outputs": [
    {
     "data": {
      "text/plain": [
       "torch.return_types.max(\n",
       "values=tensor([0.1602, 0.1623, 0.4964,  ..., 0.0000, 0.0000, 0.0000], device='cuda:0'),\n",
       "indices=tensor([3459,    3,    3,  ..., 5119, 5119, 4991], device='cuda:0'))"
      ]
     },
     "execution_count": 24,
     "metadata": {},
     "output_type": "execute_result"
    }
   ],
   "source": [
    "torch.topk(no)"
   ]
  },
  {
   "cell_type": "code",
   "execution_count": null,
   "id": "departmental-tackle",
   "metadata": {},
   "outputs": [],
   "source": []
  }
 ],
 "metadata": {
  "kernelspec": {
   "display_name": "Python 3",
   "language": "python",
   "name": "python3"
  },
  "language_info": {
   "codemirror_mode": {
    "name": "ipython",
    "version": 3
   },
   "file_extension": ".py",
   "mimetype": "text/x-python",
   "name": "python",
   "nbconvert_exporter": "python",
   "pygments_lexer": "ipython3",
   "version": "3.8.5"
  }
 },
 "nbformat": 4,
 "nbformat_minor": 5
}
